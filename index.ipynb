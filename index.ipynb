{
 "cells": [
  {
   "cell_type": "markdown",
   "metadata": {},
   "source": [
    "# Intro to regression lines"
   ]
  },
  {
   "cell_type": "markdown",
   "metadata": {},
   "source": [
    "### Learning Objectives"
   ]
  },
  {
   "cell_type": "markdown",
   "metadata": {},
   "source": [
    "* Understand how regression lines can help us make predictions about data\n",
    "* Understand how the components of slope and y-intercept determine the output of a regression line \n",
    "* Understand how to represent a line as a function"
   ]
  },
  {
   "cell_type": "markdown",
   "metadata": {},
   "source": [
    "### A not so simple problem"
   ]
  },
  {
   "cell_type": "markdown",
   "metadata": {},
   "source": [
    "Now we know a bit about plotting data and we have written some functions, like `trace_values`, `layout`, and `plot`, to help us do so.  You can [view them here](https://github.com/learn-co-curriculum/single-variable-regression/blob/master/lib/graph.py)."
   ]
  },
  {
   "cell_type": "markdown",
   "metadata": {},
   "source": [
    "### The benefit of a buck"
   ]
  },
  {
   "cell_type": "markdown",
   "metadata": {},
   "source": [
    "Imagine we are hired as a consultant for a movie executive.  The movie executive receives a budget proposal, and wants to know how much money the movie might make.  We can help him by building a model of the relationship between the money spent on a movie and money made. "
   ]
  },
  {
   "cell_type": "markdown",
   "metadata": {},
   "source": [
    "### Representing linear regression graphically"
   ]
  },
  {
   "cell_type": "markdown",
   "metadata": {},
   "source": [
    "To predict movie revenue based on a budget, let's draw a single straight line that represents the relationship between how much a movie costs and how much it makes.  \n",
    "\n",
    "> Eventually, we will want to **train** this model to match up against an actual data, but for now let's just draw a line to see how it can make estimates."
   ]
  },
  {
   "cell_type": "code",
   "execution_count": 11,
   "metadata": {},
   "outputs": [
    {
     "ename": "ValueError",
     "evalue": "\n    Invalid value of type 'builtins.list' received for the 'layout' property of \n        Received value: [{'title': 'Movie Spending and Revenue (in millions)'}]\n\n    The 'layout' property is an instance of Layout\n    that may be specified as:\n      - An instance of plotly.graph_objs.Layout\n      - A dict of string/value properties that will be passed\n        to the Layout constructor\n\n        Supported dict properties:\n            \n            angularaxis\n                plotly.graph_objects.layout.AngularAxis\n                instance or dict with compatible properties\n            annotations\n                A tuple of\n                plotly.graph_objects.layout.Annotation\n                instances or dicts with compatible properties\n            annotationdefaults\n                When used in a template (as\n                layout.template.layout.annotationdefaults),\n                sets the default property values to use for\n                elements of layout.annotations\n            autosize\n                Determines whether or not a layout width or\n                height that has been left undefined by the user\n                is initialized on each relayout. Note that,\n                regardless of this attribute, an undefined\n                layout width or height is always initialized on\n                the first call to plot.\n            bargap\n                Sets the gap (in plot fraction) between bars of\n                adjacent location coordinates.\n            bargroupgap\n                Sets the gap (in plot fraction) between bars of\n                the same location coordinate.\n            barmode\n                Determines how bars at the same location\n                coordinate are displayed on the graph. With\n                \"stack\", the bars are stacked on top of one\n                another With \"relative\", the bars are stacked\n                on top of one another, with negative values\n                below the axis, positive values above With\n                \"group\", the bars are plotted next to one\n                another centered around the shared location.\n                With \"overlay\", the bars are plotted over one\n                another, you might need to an \"opacity\" to see\n                multiple bars.\n            barnorm\n                Sets the normalization for bar traces on the\n                graph. With \"fraction\", the value of each bar\n                is divided by the sum of all values at that\n                location coordinate. \"percent\" is the same but\n                multiplied by 100 to show percentages.\n            boxgap\n                Sets the gap (in plot fraction) between boxes\n                of adjacent location coordinates. Has no effect\n                on traces that have \"width\" set.\n            boxgroupgap\n                Sets the gap (in plot fraction) between boxes\n                of the same location coordinate. Has no effect\n                on traces that have \"width\" set.\n            boxmode\n                Determines how boxes at the same location\n                coordinate are displayed on the graph. If\n                \"group\", the boxes are plotted next to one\n                another centered around the shared location. If\n                \"overlay\", the boxes are plotted over one\n                another, you might need to set \"opacity\" to see\n                them multiple boxes. Has no effect on traces\n                that have \"width\" set.\n            calendar\n                Sets the default calendar system to use for\n                interpreting and displaying dates throughout\n                the plot.\n            clickmode\n                Determines the mode of single click\n                interactions. \"event\" is the default value and\n                emits the `plotly_click` event. In addition\n                this mode emits the `plotly_selected` event in\n                drag modes \"lasso\" and \"select\", but with no\n                event data attached (kept for compatibility\n                reasons). The \"select\" flag enables selecting\n                single data points via click. This mode also\n                supports persistent selections, meaning that\n                pressing Shift while clicking, adds to /\n                subtracts from an existing selection. \"select\"\n                with `hovermode`: \"x\" can be confusing,\n                consider explicitly setting `hovermode`:\n                \"closest\" when using this feature. Selection\n                events are sent accordingly as long as \"event\"\n                flag is set as well. When the \"event\" flag is\n                missing, `plotly_click` and `plotly_selected`\n                events are not fired.\n            coloraxis\n                plotly.graph_objects.layout.Coloraxis instance\n                or dict with compatible properties\n            colorscale\n                plotly.graph_objects.layout.Colorscale instance\n                or dict with compatible properties\n            colorway\n                Sets the default trace colors.\n            datarevision\n                If provided, a changed value tells\n                `Plotly.react` that one or more data arrays has\n                changed. This way you can modify arrays in-\n                place rather than making a complete new copy\n                for an incremental change. If NOT provided,\n                `Plotly.react` assumes that data arrays are\n                being treated as immutable, thus any data array\n                with a different identity from its predecessor\n                contains new data.\n            direction\n                Legacy polar charts are deprecated! Please\n                switch to \"polar\" subplots. Sets the direction\n                corresponding to positive angles in legacy\n                polar charts.\n            dragmode\n                Determines the mode of drag interactions.\n                \"select\" and \"lasso\" apply only to scatter\n                traces with markers or text. \"orbit\" and\n                \"turntable\" apply only to 3D scenes.\n            editrevision\n                Controls persistence of user-driven changes in\n                `editable: true` configuration, other than\n                trace names and axis titles. Defaults to\n                `layout.uirevision`.\n            extendfunnelareacolors\n                If `true`, the funnelarea slice colors (whether\n                given by `funnelareacolorway` or inherited from\n                `colorway`) will be extended to three times its\n                original length by first repeating every color\n                20% lighter then each color 20% darker. This is\n                intended to reduce the likelihood of reusing\n                the same color when you have many slices, but\n                you can set `false` to disable. Colors provided\n                in the trace, using `marker.colors`, are never\n                extended.\n            extendpiecolors\n                If `true`, the pie slice colors (whether given\n                by `piecolorway` or inherited from `colorway`)\n                will be extended to three times its original\n                length by first repeating every color 20%\n                lighter then each color 20% darker. This is\n                intended to reduce the likelihood of reusing\n                the same color when you have many slices, but\n                you can set `false` to disable. Colors provided\n                in the trace, using `marker.colors`, are never\n                extended.\n            extendsunburstcolors\n                If `true`, the sunburst slice colors (whether\n                given by `sunburstcolorway` or inherited from\n                `colorway`) will be extended to three times its\n                original length by first repeating every color\n                20% lighter then each color 20% darker. This is\n                intended to reduce the likelihood of reusing\n                the same color when you have many slices, but\n                you can set `false` to disable. Colors provided\n                in the trace, using `marker.colors`, are never\n                extended.\n            font\n                Sets the global font. Note that fonts used in\n                traces and other layout components inherit from\n                the global font.\n            funnelareacolorway\n                Sets the default funnelarea slice colors.\n                Defaults to the main `colorway` used for trace\n                colors. If you specify a new list here it can\n                still be extended with lighter and darker\n                colors, see `extendfunnelareacolors`.\n            funnelgap\n                Sets the gap (in plot fraction) between bars of\n                adjacent location coordinates.\n            funnelgroupgap\n                Sets the gap (in plot fraction) between bars of\n                the same location coordinate.\n            funnelmode\n                Determines how bars at the same location\n                coordinate are displayed on the graph. With\n                \"stack\", the bars are stacked on top of one\n                another With \"group\", the bars are plotted next\n                to one another centered around the shared\n                location. With \"overlay\", the bars are plotted\n                over one another, you might need to an\n                \"opacity\" to see multiple bars.\n            geo\n                plotly.graph_objects.layout.Geo instance or\n                dict with compatible properties\n            grid\n                plotly.graph_objects.layout.Grid instance or\n                dict with compatible properties\n            height\n                Sets the plot's height (in px).\n            hiddenlabels\n                hiddenlabels is the funnelarea & pie chart\n                analog of visible:'legendonly' but it can\n                contain many labels, and can simultaneously\n                hide slices from several pies/funnelarea charts\n            hiddenlabelssrc\n                Sets the source reference on plot.ly for\n                hiddenlabels .\n            hidesources\n                Determines whether or not a text link citing\n                the data source is placed at the bottom-right\n                cored of the figure. Has only an effect only on\n                graphs that have been generated via forked\n                graphs from the plotly service (at\n                https://plot.ly or on-premise).\n            hoverdistance\n                Sets the default distance (in pixels) to look\n                for data to add hover labels (-1 means no\n                cutoff, 0 means no looking for data). This is\n                only a real distance for hovering on point-like\n                objects, like scatter points. For area-like\n                objects (bars, scatter fills, etc) hovering is\n                on inside the area and off outside, but these\n                objects will not supersede hover on point-like\n                objects in case of conflict.\n            hoverlabel\n                plotly.graph_objects.layout.Hoverlabel instance\n                or dict with compatible properties\n            hovermode\n                Determines the mode of hover interactions. If\n                `clickmode` includes the \"select\" flag,\n                `hovermode` defaults to \"closest\". If\n                `clickmode` lacks the \"select\" flag, it\n                defaults to \"x\" or \"y\" (depending on the\n                trace's `orientation` value) for plots based on\n                cartesian coordinates. For anything else the\n                default value is \"closest\".\n            images\n                A tuple of plotly.graph_objects.layout.Image\n                instances or dicts with compatible properties\n            imagedefaults\n                When used in a template (as\n                layout.template.layout.imagedefaults), sets the\n                default property values to use for elements of\n                layout.images\n            legend\n                plotly.graph_objects.layout.Legend instance or\n                dict with compatible properties\n            mapbox\n                plotly.graph_objects.layout.Mapbox instance or\n                dict with compatible properties\n            margin\n                plotly.graph_objects.layout.Margin instance or\n                dict with compatible properties\n            meta\n                Assigns extra meta information that can be used\n                in various `text` attributes. Attributes such\n                as the graph, axis and colorbar `title.text`,\n                annotation `text` `trace.name` in legend items,\n                `rangeselector`, `updatemenues` and `sliders`\n                `label` text all support `meta`. One can access\n                `meta` fields using template strings:\n                `%{meta[i]}` where `i` is the index of the\n                `meta` item in question. `meta` can also be an\n                object for example `{key: value}` which can be\n                accessed %{meta[key]}.\n            metasrc\n                Sets the source reference on plot.ly for  meta\n                .\n            modebar\n                plotly.graph_objects.layout.Modebar instance or\n                dict with compatible properties\n            orientation\n                Legacy polar charts are deprecated! Please\n                switch to \"polar\" subplots. Rotates the entire\n                polar by the given angle in legacy polar\n                charts.\n            paper_bgcolor\n                Sets the color of paper where the graph is\n                drawn.\n            piecolorway\n                Sets the default pie slice colors. Defaults to\n                the main `colorway` used for trace colors. If\n                you specify a new list here it can still be\n                extended with lighter and darker colors, see\n                `extendpiecolors`.\n            plot_bgcolor\n                Sets the color of plotting area in-between x\n                and y axes.\n            polar\n                plotly.graph_objects.layout.Polar instance or\n                dict with compatible properties\n            radialaxis\n                plotly.graph_objects.layout.RadialAxis instance\n                or dict with compatible properties\n            scene\n                plotly.graph_objects.layout.Scene instance or\n                dict with compatible properties\n            selectdirection\n                When \"dragmode\" is set to \"select\", this limits\n                the selection of the drag to horizontal,\n                vertical or diagonal. \"h\" only allows\n                horizontal selection, \"v\" only vertical, \"d\"\n                only diagonal and \"any\" sets no limit.\n            selectionrevision\n                Controls persistence of user-driven changes in\n                selected points from all traces.\n            separators\n                Sets the decimal and thousand separators. For\n                example, *. * puts a '.' before decimals and a\n                space between thousands. In English locales,\n                dflt is \".,\" but other locales may alter this\n                default.\n            shapes\n                A tuple of plotly.graph_objects.layout.Shape\n                instances or dicts with compatible properties\n            shapedefaults\n                When used in a template (as\n                layout.template.layout.shapedefaults), sets the\n                default property values to use for elements of\n                layout.shapes\n            showlegend\n                Determines whether or not a legend is drawn.\n                Default is `true` if there is a trace to show\n                and any of these: a) Two or more traces would\n                by default be shown in the legend. b) One pie\n                trace is shown in the legend. c) One trace is\n                explicitly given with `showlegend: true`.\n            sliders\n                A tuple of plotly.graph_objects.layout.Slider\n                instances or dicts with compatible properties\n            sliderdefaults\n                When used in a template (as\n                layout.template.layout.sliderdefaults), sets\n                the default property values to use for elements\n                of layout.sliders\n            spikedistance\n                Sets the default distance (in pixels) to look\n                for data to draw spikelines to (-1 means no\n                cutoff, 0 means no looking for data). As with\n                hoverdistance, distance does not apply to area-\n                like objects. In addition, some objects can be\n                hovered on but will not generate spikelines,\n                such as scatter fills.\n            sunburstcolorway\n                Sets the default sunburst slice colors.\n                Defaults to the main `colorway` used for trace\n                colors. If you specify a new list here it can\n                still be extended with lighter and darker\n                colors, see `extendsunburstcolors`.\n            template\n                Default attributes to be applied to the plot.\n                This should be a dict with format: `{'layout':\n                layoutTemplate, 'data': {trace_type:\n                [traceTemplate, ...], ...}}` where\n                `layoutTemplate` is a dict matching the\n                structure of `figure.layout` and\n                `traceTemplate` is a dict matching the\n                structure of the trace with type `trace_type`\n                (e.g. 'scatter'). Alternatively, this may be\n                specified as an instance of\n                plotly.graph_objs.layout.Template.  Trace\n                templates are applied cyclically to traces of\n                each type. Container arrays (eg `annotations`)\n                have special handling: An object ending in\n                `defaults` (eg `annotationdefaults`) is applied\n                to each array item. But if an item has a\n                `templateitemname` key we look in the template\n                array for an item with matching `name` and\n                apply that instead. If no matching `name` is\n                found we mark the item invisible. Any named\n                template item not referenced is appended to the\n                end of the array, so this can be used to add a\n                watermark annotation or a logo image, for\n                example. To omit one of these items on the\n                plot, make an item with matching\n                `templateitemname` and `visible: false`.\n            ternary\n                plotly.graph_objects.layout.Ternary instance or\n                dict with compatible properties\n            title\n                plotly.graph_objects.layout.Title instance or\n                dict with compatible properties\n            titlefont\n                Deprecated: Please use layout.title.font\n                instead. Sets the title font. Note that the\n                title's font used to be customized by the now\n                deprecated `titlefont` attribute.\n            transition\n                Sets transition options used during\n                Plotly.react updates.\n            uirevision\n                Used to allow user interactions with the plot\n                to persist after `Plotly.react` calls that are\n                unaware of these interactions. If `uirevision`\n                is omitted, or if it is given and it changed\n                from the previous `Plotly.react` call, the\n                exact new figure is used. If `uirevision` is\n                truthy and did NOT change, any attribute that\n                has been affected by user interactions and did\n                not receive a different value in the new figure\n                will keep the interaction value.\n                `layout.uirevision` attribute serves as the\n                default for `uirevision` attributes in various\n                sub-containers. For finer control you can set\n                these sub-attributes directly. For example, if\n                your app separately controls the data on the x\n                and y axes you might set\n                `xaxis.uirevision=*time*` and\n                `yaxis.uirevision=*cost*`. Then if only the y\n                data is changed, you can update\n                `yaxis.uirevision=*quantity*` and the y axis\n                range will reset but the x axis range will\n                retain any user-driven zoom.\n            updatemenus\n                A tuple of\n                plotly.graph_objects.layout.Updatemenu\n                instances or dicts with compatible properties\n            updatemenudefaults\n                When used in a template (as\n                layout.template.layout.updatemenudefaults),\n                sets the default property values to use for\n                elements of layout.updatemenus\n            violingap\n                Sets the gap (in plot fraction) between violins\n                of adjacent location coordinates. Has no effect\n                on traces that have \"width\" set.\n            violingroupgap\n                Sets the gap (in plot fraction) between violins\n                of the same location coordinate. Has no effect\n                on traces that have \"width\" set.\n            violinmode\n                Determines how violins at the same location\n                coordinate are displayed on the graph. If\n                \"group\", the violins are plotted next to one\n                another centered around the shared location. If\n                \"overlay\", the violins are plotted over one\n                another, you might need to set \"opacity\" to see\n                them multiple violins. Has no effect on traces\n                that have \"width\" set.\n            waterfallgap\n                Sets the gap (in plot fraction) between bars of\n                adjacent location coordinates.\n            waterfallgroupgap\n                Sets the gap (in plot fraction) between bars of\n                the same location coordinate.\n            waterfallmode\n                Determines how bars at the same location\n                coordinate are displayed on the graph. With\n                \"group\", the bars are plotted next to one\n                another centered around the shared location.\n                With \"overlay\", the bars are plotted over one\n                another, you might need to an \"opacity\" to see\n                multiple bars.\n            width\n                Sets the plot's width (in px).\n            xaxis\n                plotly.graph_objects.layout.XAxis instance or\n                dict with compatible properties\n            yaxis\n                plotly.graph_objects.layout.YAxis instance or\n                dict with compatible properties\n",
     "output_type": "error",
     "traceback": [
      "\u001b[0;31m\u001b[0m",
      "\u001b[0;31mValueError\u001b[0mTraceback (most recent call last)",
      "\u001b[0;32m<ipython-input-11-bf84acb26a5b>\u001b[0m in \u001b[0;36m<module>\u001b[0;34m\u001b[0m\n\u001b[1;32m      3\u001b[0m \u001b[0mregression_trace\u001b[0m \u001b[0;34m=\u001b[0m \u001b[0mtrace_values\u001b[0m\u001b[0;34m(\u001b[0m\u001b[0;34m[\u001b[0m\u001b[0;36m0\u001b[0m\u001b[0;34m,\u001b[0m \u001b[0;36m150\u001b[0m\u001b[0;34m]\u001b[0m\u001b[0;34m,\u001b[0m \u001b[0;34m[\u001b[0m\u001b[0;36m0\u001b[0m\u001b[0;34m,\u001b[0m \u001b[0;36m450\u001b[0m\u001b[0;34m]\u001b[0m\u001b[0;34m,\u001b[0m \u001b[0mmode\u001b[0m \u001b[0;34m=\u001b[0m \u001b[0;34m'lines'\u001b[0m\u001b[0;34m,\u001b[0m \u001b[0mname\u001b[0m \u001b[0;34m=\u001b[0m \u001b[0;34m'estimated revenue'\u001b[0m\u001b[0;34m)\u001b[0m\u001b[0;34m\u001b[0m\u001b[0;34m\u001b[0m\u001b[0m\n\u001b[1;32m      4\u001b[0m \u001b[0mmovie_layout\u001b[0m \u001b[0;34m=\u001b[0m \u001b[0mlayout\u001b[0m\u001b[0;34m(\u001b[0m\u001b[0moptions\u001b[0m \u001b[0;34m=\u001b[0m \u001b[0;34m{\u001b[0m\u001b[0;34m'title'\u001b[0m\u001b[0;34m:\u001b[0m \u001b[0;34m'Movie Spending and Revenue (in millions)'\u001b[0m\u001b[0;34m}\u001b[0m\u001b[0;34m)\u001b[0m\u001b[0;34m\u001b[0m\u001b[0;34m\u001b[0m\u001b[0m\n\u001b[0;32m----> 5\u001b[0;31m \u001b[0mplot\u001b[0m\u001b[0;34m(\u001b[0m\u001b[0;34m[\u001b[0m\u001b[0mregression_trace\u001b[0m\u001b[0;34m]\u001b[0m\u001b[0;34m,\u001b[0m \u001b[0;34m[\u001b[0m\u001b[0mmovie_layout\u001b[0m\u001b[0;34m]\u001b[0m\u001b[0;34m)\u001b[0m\u001b[0;34m\u001b[0m\u001b[0;34m\u001b[0m\u001b[0m\n\u001b[0m",
      "\u001b[0;32m~/single-variable-regression-data-science-intro-000/lib/graph.py\u001b[0m in \u001b[0;36mplot\u001b[0;34m(traces, layout)\u001b[0m\n\u001b[1;32m     20\u001b[0m \u001b[0;32mdef\u001b[0m \u001b[0mplot\u001b[0m\u001b[0;34m(\u001b[0m\u001b[0mtraces\u001b[0m \u001b[0;34m=\u001b[0m \u001b[0;34m[\u001b[0m\u001b[0;34m]\u001b[0m\u001b[0;34m,\u001b[0m \u001b[0mlayout\u001b[0m \u001b[0;34m=\u001b[0m \u001b[0;34m{\u001b[0m\u001b[0;34m}\u001b[0m\u001b[0;34m)\u001b[0m\u001b[0;34m:\u001b[0m\u001b[0;34m\u001b[0m\u001b[0;34m\u001b[0m\u001b[0m\n\u001b[1;32m     21\u001b[0m     \u001b[0;32mif\u001b[0m \u001b[0;32mnot\u001b[0m \u001b[0misinstance\u001b[0m\u001b[0;34m(\u001b[0m\u001b[0mtraces\u001b[0m\u001b[0;34m,\u001b[0m \u001b[0mlist\u001b[0m\u001b[0;34m)\u001b[0m\u001b[0;34m:\u001b[0m \u001b[0;32mraise\u001b[0m \u001b[0mTypeError\u001b[0m\u001b[0;34m(\u001b[0m\u001b[0;34m'first argument must be a list.  Instead is'\u001b[0m\u001b[0;34m,\u001b[0m \u001b[0mtraces\u001b[0m\u001b[0;34m)\u001b[0m\u001b[0;34m\u001b[0m\u001b[0;34m\u001b[0m\u001b[0m\n\u001b[0;32m---> 22\u001b[0;31m     \u001b[0mplotly\u001b[0m\u001b[0;34m.\u001b[0m\u001b[0moffline\u001b[0m\u001b[0;34m.\u001b[0m\u001b[0miplot\u001b[0m\u001b[0;34m(\u001b[0m\u001b[0;34m{\u001b[0m\u001b[0;34m'data'\u001b[0m\u001b[0;34m:\u001b[0m \u001b[0mtraces\u001b[0m\u001b[0;34m,\u001b[0m \u001b[0;34m'layout'\u001b[0m\u001b[0;34m:\u001b[0m \u001b[0mlayout\u001b[0m\u001b[0;34m}\u001b[0m\u001b[0;34m)\u001b[0m\u001b[0;34m\u001b[0m\u001b[0;34m\u001b[0m\u001b[0m\n\u001b[0m",
      "\u001b[0;32m/opt/conda/envs/learn-env/lib/python3.6/site-packages/plotly/offline/offline.py\u001b[0m in \u001b[0;36miplot\u001b[0;34m(figure_or_data, show_link, link_text, validate, image, filename, image_width, image_height, config, auto_play, animation_opts)\u001b[0m\n\u001b[1;32m    381\u001b[0m \u001b[0;34m\u001b[0m\u001b[0m\n\u001b[1;32m    382\u001b[0m     \u001b[0;31m# Get figure\u001b[0m\u001b[0;34m\u001b[0m\u001b[0;34m\u001b[0m\u001b[0;34m\u001b[0m\u001b[0m\n\u001b[0;32m--> 383\u001b[0;31m     \u001b[0mfigure\u001b[0m \u001b[0;34m=\u001b[0m \u001b[0mtools\u001b[0m\u001b[0;34m.\u001b[0m\u001b[0mreturn_figure_from_figure_or_data\u001b[0m\u001b[0;34m(\u001b[0m\u001b[0mfigure_or_data\u001b[0m\u001b[0;34m,\u001b[0m \u001b[0mvalidate\u001b[0m\u001b[0;34m)\u001b[0m\u001b[0;34m\u001b[0m\u001b[0;34m\u001b[0m\u001b[0m\n\u001b[0m\u001b[1;32m    384\u001b[0m \u001b[0;34m\u001b[0m\u001b[0m\n\u001b[1;32m    385\u001b[0m     \u001b[0;31m# Handle image request\u001b[0m\u001b[0;34m\u001b[0m\u001b[0;34m\u001b[0m\u001b[0;34m\u001b[0m\u001b[0m\n",
      "\u001b[0;32m/opt/conda/envs/learn-env/lib/python3.6/site-packages/plotly/tools.py\u001b[0m in \u001b[0;36mreturn_figure_from_figure_or_data\u001b[0;34m(figure_or_data, validate_figure)\u001b[0m\n\u001b[1;32m    551\u001b[0m \u001b[0;34m\u001b[0m\u001b[0m\n\u001b[1;32m    552\u001b[0m         \u001b[0;32mtry\u001b[0m\u001b[0;34m:\u001b[0m\u001b[0;34m\u001b[0m\u001b[0;34m\u001b[0m\u001b[0m\n\u001b[0;32m--> 553\u001b[0;31m             \u001b[0mfigure\u001b[0m \u001b[0;34m=\u001b[0m \u001b[0mFigure\u001b[0m\u001b[0;34m(\u001b[0m\u001b[0;34m**\u001b[0m\u001b[0mfigure\u001b[0m\u001b[0;34m)\u001b[0m\u001b[0;34m.\u001b[0m\u001b[0mto_dict\u001b[0m\u001b[0;34m(\u001b[0m\u001b[0;34m)\u001b[0m\u001b[0;34m\u001b[0m\u001b[0;34m\u001b[0m\u001b[0m\n\u001b[0m\u001b[1;32m    554\u001b[0m         \u001b[0;32mexcept\u001b[0m \u001b[0mexceptions\u001b[0m\u001b[0;34m.\u001b[0m\u001b[0mPlotlyError\u001b[0m \u001b[0;32mas\u001b[0m \u001b[0merr\u001b[0m\u001b[0;34m:\u001b[0m\u001b[0;34m\u001b[0m\u001b[0;34m\u001b[0m\u001b[0m\n\u001b[1;32m    555\u001b[0m             raise exceptions.PlotlyError(\n",
      "\u001b[0;32m/opt/conda/envs/learn-env/lib/python3.6/site-packages/plotly/graph_objs/_figure.py\u001b[0m in \u001b[0;36m__init__\u001b[0;34m(self, data, layout, frames, skip_invalid, **kwargs)\u001b[0m\n\u001b[1;32m    586\u001b[0m             \u001b[0;32mis\u001b[0m \u001b[0minvalid\u001b[0m \u001b[0mAND\u001b[0m \u001b[0mskip_invalid\u001b[0m \u001b[0;32mis\u001b[0m \u001b[0;32mFalse\u001b[0m\u001b[0;34m\u001b[0m\u001b[0;34m\u001b[0m\u001b[0m\n\u001b[1;32m    587\u001b[0m         \"\"\"\n\u001b[0;32m--> 588\u001b[0;31m         \u001b[0msuper\u001b[0m\u001b[0;34m(\u001b[0m\u001b[0mFigure\u001b[0m\u001b[0;34m,\u001b[0m \u001b[0mself\u001b[0m\u001b[0;34m)\u001b[0m\u001b[0;34m.\u001b[0m\u001b[0m__init__\u001b[0m\u001b[0;34m(\u001b[0m\u001b[0mdata\u001b[0m\u001b[0;34m,\u001b[0m \u001b[0mlayout\u001b[0m\u001b[0;34m,\u001b[0m \u001b[0mframes\u001b[0m\u001b[0;34m,\u001b[0m \u001b[0mskip_invalid\u001b[0m\u001b[0;34m,\u001b[0m \u001b[0;34m**\u001b[0m\u001b[0mkwargs\u001b[0m\u001b[0;34m)\u001b[0m\u001b[0;34m\u001b[0m\u001b[0;34m\u001b[0m\u001b[0m\n\u001b[0m\u001b[1;32m    589\u001b[0m \u001b[0;34m\u001b[0m\u001b[0m\n\u001b[1;32m    590\u001b[0m     def add_area(\n",
      "\u001b[0;32m/opt/conda/envs/learn-env/lib/python3.6/site-packages/plotly/basedatatypes.py\u001b[0m in \u001b[0;36m__init__\u001b[0;34m(self, data, layout_plotly, frames, skip_invalid, **kwargs)\u001b[0m\n\u001b[1;32m    197\u001b[0m         \u001b[0;31m# ### Import Layout ###\u001b[0m\u001b[0;34m\u001b[0m\u001b[0;34m\u001b[0m\u001b[0;34m\u001b[0m\u001b[0m\n\u001b[1;32m    198\u001b[0m         self._layout_obj = self._layout_validator.validate_coerce(\n\u001b[0;32m--> 199\u001b[0;31m             \u001b[0mlayout\u001b[0m\u001b[0;34m,\u001b[0m \u001b[0mskip_invalid\u001b[0m\u001b[0;34m=\u001b[0m\u001b[0mskip_invalid\u001b[0m\u001b[0;34m\u001b[0m\u001b[0;34m\u001b[0m\u001b[0m\n\u001b[0m\u001b[1;32m    200\u001b[0m         )\n\u001b[1;32m    201\u001b[0m \u001b[0;34m\u001b[0m\u001b[0m\n",
      "\u001b[0;32m/opt/conda/envs/learn-env/lib/python3.6/site-packages/_plotly_utils/basevalidators.py\u001b[0m in \u001b[0;36mvalidate_coerce\u001b[0;34m(self, v, skip_invalid)\u001b[0m\n\u001b[1;32m   2440\u001b[0m                 \u001b[0mv\u001b[0m \u001b[0;34m=\u001b[0m \u001b[0mself\u001b[0m\u001b[0;34m.\u001b[0m\u001b[0mdata_class\u001b[0m\u001b[0;34m(\u001b[0m\u001b[0;34m)\u001b[0m\u001b[0;34m\u001b[0m\u001b[0;34m\u001b[0m\u001b[0m\n\u001b[1;32m   2441\u001b[0m             \u001b[0;32melse\u001b[0m\u001b[0;34m:\u001b[0m\u001b[0;34m\u001b[0m\u001b[0;34m\u001b[0m\u001b[0m\n\u001b[0;32m-> 2442\u001b[0;31m                 \u001b[0mself\u001b[0m\u001b[0;34m.\u001b[0m\u001b[0mraise_invalid_val\u001b[0m\u001b[0;34m(\u001b[0m\u001b[0mv\u001b[0m\u001b[0;34m)\u001b[0m\u001b[0;34m\u001b[0m\u001b[0;34m\u001b[0m\u001b[0m\n\u001b[0m\u001b[1;32m   2443\u001b[0m \u001b[0;34m\u001b[0m\u001b[0m\n\u001b[1;32m   2444\u001b[0m         \u001b[0mv\u001b[0m\u001b[0;34m.\u001b[0m\u001b[0m_plotly_name\u001b[0m \u001b[0;34m=\u001b[0m \u001b[0mself\u001b[0m\u001b[0;34m.\u001b[0m\u001b[0mplotly_name\u001b[0m\u001b[0;34m\u001b[0m\u001b[0;34m\u001b[0m\u001b[0m\n",
      "\u001b[0;32m/opt/conda/envs/learn-env/lib/python3.6/site-packages/_plotly_utils/basevalidators.py\u001b[0m in \u001b[0;36mraise_invalid_val\u001b[0;34m(self, v, inds)\u001b[0m\n\u001b[1;32m    281\u001b[0m                 \u001b[0mtyp\u001b[0m\u001b[0;34m=\u001b[0m\u001b[0mtype_str\u001b[0m\u001b[0;34m(\u001b[0m\u001b[0mv\u001b[0m\u001b[0;34m)\u001b[0m\u001b[0;34m,\u001b[0m\u001b[0;34m\u001b[0m\u001b[0;34m\u001b[0m\u001b[0m\n\u001b[1;32m    282\u001b[0m                 \u001b[0mv\u001b[0m\u001b[0;34m=\u001b[0m\u001b[0mrepr\u001b[0m\u001b[0;34m(\u001b[0m\u001b[0mv\u001b[0m\u001b[0;34m)\u001b[0m\u001b[0;34m,\u001b[0m\u001b[0;34m\u001b[0m\u001b[0;34m\u001b[0m\u001b[0m\n\u001b[0;32m--> 283\u001b[0;31m                 \u001b[0mvalid_clr_desc\u001b[0m\u001b[0;34m=\u001b[0m\u001b[0mself\u001b[0m\u001b[0;34m.\u001b[0m\u001b[0mdescription\u001b[0m\u001b[0;34m(\u001b[0m\u001b[0;34m)\u001b[0m\u001b[0;34m,\u001b[0m\u001b[0;34m\u001b[0m\u001b[0;34m\u001b[0m\u001b[0m\n\u001b[0m\u001b[1;32m    284\u001b[0m             )\n\u001b[1;32m    285\u001b[0m         )\n",
      "\u001b[0;31mValueError\u001b[0m: \n    Invalid value of type 'builtins.list' received for the 'layout' property of \n        Received value: [{'title': 'Movie Spending and Revenue (in millions)'}]\n\n    The 'layout' property is an instance of Layout\n    that may be specified as:\n      - An instance of plotly.graph_objs.Layout\n      - A dict of string/value properties that will be passed\n        to the Layout constructor\n\n        Supported dict properties:\n            \n            angularaxis\n                plotly.graph_objects.layout.AngularAxis\n                instance or dict with compatible properties\n            annotations\n                A tuple of\n                plotly.graph_objects.layout.Annotation\n                instances or dicts with compatible properties\n            annotationdefaults\n                When used in a template (as\n                layout.template.layout.annotationdefaults),\n                sets the default property values to use for\n                elements of layout.annotations\n            autosize\n                Determines whether or not a layout width or\n                height that has been left undefined by the user\n                is initialized on each relayout. Note that,\n                regardless of this attribute, an undefined\n                layout width or height is always initialized on\n                the first call to plot.\n            bargap\n                Sets the gap (in plot fraction) between bars of\n                adjacent location coordinates.\n            bargroupgap\n                Sets the gap (in plot fraction) between bars of\n                the same location coordinate.\n            barmode\n                Determines how bars at the same location\n                coordinate are displayed on the graph. With\n                \"stack\", the bars are stacked on top of one\n                another With \"relative\", the bars are stacked\n                on top of one another, with negative values\n                below the axis, positive values above With\n                \"group\", the bars are plotted next to one\n                another centered around the shared location.\n                With \"overlay\", the bars are plotted over one\n                another, you might need to an \"opacity\" to see\n                multiple bars.\n            barnorm\n                Sets the normalization for bar traces on the\n                graph. With \"fraction\", the value of each bar\n                is divided by the sum of all values at that\n                location coordinate. \"percent\" is the same but\n                multiplied by 100 to show percentages.\n            boxgap\n                Sets the gap (in plot fraction) between boxes\n                of adjacent location coordinates. Has no effect\n                on traces that have \"width\" set.\n            boxgroupgap\n                Sets the gap (in plot fraction) between boxes\n                of the same location coordinate. Has no effect\n                on traces that have \"width\" set.\n            boxmode\n                Determines how boxes at the same location\n                coordinate are displayed on the graph. If\n                \"group\", the boxes are plotted next to one\n                another centered around the shared location. If\n                \"overlay\", the boxes are plotted over one\n                another, you might need to set \"opacity\" to see\n                them multiple boxes. Has no effect on traces\n                that have \"width\" set.\n            calendar\n                Sets the default calendar system to use for\n                interpreting and displaying dates throughout\n                the plot.\n            clickmode\n                Determines the mode of single click\n                interactions. \"event\" is the default value and\n                emits the `plotly_click` event. In addition\n                this mode emits the `plotly_selected` event in\n                drag modes \"lasso\" and \"select\", but with no\n                event data attached (kept for compatibility\n                reasons). The \"select\" flag enables selecting\n                single data points via click. This mode also\n                supports persistent selections, meaning that\n                pressing Shift while clicking, adds to /\n                subtracts from an existing selection. \"select\"\n                with `hovermode`: \"x\" can be confusing,\n                consider explicitly setting `hovermode`:\n                \"closest\" when using this feature. Selection\n                events are sent accordingly as long as \"event\"\n                flag is set as well. When the \"event\" flag is\n                missing, `plotly_click` and `plotly_selected`\n                events are not fired.\n            coloraxis\n                plotly.graph_objects.layout.Coloraxis instance\n                or dict with compatible properties\n            colorscale\n                plotly.graph_objects.layout.Colorscale instance\n                or dict with compatible properties\n            colorway\n                Sets the default trace colors.\n            datarevision\n                If provided, a changed value tells\n                `Plotly.react` that one or more data arrays has\n                changed. This way you can modify arrays in-\n                place rather than making a complete new copy\n                for an incremental change. If NOT provided,\n                `Plotly.react` assumes that data arrays are\n                being treated as immutable, thus any data array\n                with a different identity from its predecessor\n                contains new data.\n            direction\n                Legacy polar charts are deprecated! Please\n                switch to \"polar\" subplots. Sets the direction\n                corresponding to positive angles in legacy\n                polar charts.\n            dragmode\n                Determines the mode of drag interactions.\n                \"select\" and \"lasso\" apply only to scatter\n                traces with markers or text. \"orbit\" and\n                \"turntable\" apply only to 3D scenes.\n            editrevision\n                Controls persistence of user-driven changes in\n                `editable: true` configuration, other than\n                trace names and axis titles. Defaults to\n                `layout.uirevision`.\n            extendfunnelareacolors\n                If `true`, the funnelarea slice colors (whether\n                given by `funnelareacolorway` or inherited from\n                `colorway`) will be extended to three times its\n                original length by first repeating every color\n                20% lighter then each color 20% darker. This is\n                intended to reduce the likelihood of reusing\n                the same color when you have many slices, but\n                you can set `false` to disable. Colors provided\n                in the trace, using `marker.colors`, are never\n                extended.\n            extendpiecolors\n                If `true`, the pie slice colors (whether given\n                by `piecolorway` or inherited from `colorway`)\n                will be extended to three times its original\n                length by first repeating every color 20%\n                lighter then each color 20% darker. This is\n                intended to reduce the likelihood of reusing\n                the same color when you have many slices, but\n                you can set `false` to disable. Colors provided\n                in the trace, using `marker.colors`, are never\n                extended.\n            extendsunburstcolors\n                If `true`, the sunburst slice colors (whether\n                given by `sunburstcolorway` or inherited from\n                `colorway`) will be extended to three times its\n                original length by first repeating every color\n                20% lighter then each color 20% darker. This is\n                intended to reduce the likelihood of reusing\n                the same color when you have many slices, but\n                you can set `false` to disable. Colors provided\n                in the trace, using `marker.colors`, are never\n                extended.\n            font\n                Sets the global font. Note that fonts used in\n                traces and other layout components inherit from\n                the global font.\n            funnelareacolorway\n                Sets the default funnelarea slice colors.\n                Defaults to the main `colorway` used for trace\n                colors. If you specify a new list here it can\n                still be extended with lighter and darker\n                colors, see `extendfunnelareacolors`.\n            funnelgap\n                Sets the gap (in plot fraction) between bars of\n                adjacent location coordinates.\n            funnelgroupgap\n                Sets the gap (in plot fraction) between bars of\n                the same location coordinate.\n            funnelmode\n                Determines how bars at the same location\n                coordinate are displayed on the graph. With\n                \"stack\", the bars are stacked on top of one\n                another With \"group\", the bars are plotted next\n                to one another centered around the shared\n                location. With \"overlay\", the bars are plotted\n                over one another, you might need to an\n                \"opacity\" to see multiple bars.\n            geo\n                plotly.graph_objects.layout.Geo instance or\n                dict with compatible properties\n            grid\n                plotly.graph_objects.layout.Grid instance or\n                dict with compatible properties\n            height\n                Sets the plot's height (in px).\n            hiddenlabels\n                hiddenlabels is the funnelarea & pie chart\n                analog of visible:'legendonly' but it can\n                contain many labels, and can simultaneously\n                hide slices from several pies/funnelarea charts\n            hiddenlabelssrc\n                Sets the source reference on plot.ly for\n                hiddenlabels .\n            hidesources\n                Determines whether or not a text link citing\n                the data source is placed at the bottom-right\n                cored of the figure. Has only an effect only on\n                graphs that have been generated via forked\n                graphs from the plotly service (at\n                https://plot.ly or on-premise).\n            hoverdistance\n                Sets the default distance (in pixels) to look\n                for data to add hover labels (-1 means no\n                cutoff, 0 means no looking for data). This is\n                only a real distance for hovering on point-like\n                objects, like scatter points. For area-like\n                objects (bars, scatter fills, etc) hovering is\n                on inside the area and off outside, but these\n                objects will not supersede hover on point-like\n                objects in case of conflict.\n            hoverlabel\n                plotly.graph_objects.layout.Hoverlabel instance\n                or dict with compatible properties\n            hovermode\n                Determines the mode of hover interactions. If\n                `clickmode` includes the \"select\" flag,\n                `hovermode` defaults to \"closest\". If\n                `clickmode` lacks the \"select\" flag, it\n                defaults to \"x\" or \"y\" (depending on the\n                trace's `orientation` value) for plots based on\n                cartesian coordinates. For anything else the\n                default value is \"closest\".\n            images\n                A tuple of plotly.graph_objects.layout.Image\n                instances or dicts with compatible properties\n            imagedefaults\n                When used in a template (as\n                layout.template.layout.imagedefaults), sets the\n                default property values to use for elements of\n                layout.images\n            legend\n                plotly.graph_objects.layout.Legend instance or\n                dict with compatible properties\n            mapbox\n                plotly.graph_objects.layout.Mapbox instance or\n                dict with compatible properties\n            margin\n                plotly.graph_objects.layout.Margin instance or\n                dict with compatible properties\n            meta\n                Assigns extra meta information that can be used\n                in various `text` attributes. Attributes such\n                as the graph, axis and colorbar `title.text`,\n                annotation `text` `trace.name` in legend items,\n                `rangeselector`, `updatemenues` and `sliders`\n                `label` text all support `meta`. One can access\n                `meta` fields using template strings:\n                `%{meta[i]}` where `i` is the index of the\n                `meta` item in question. `meta` can also be an\n                object for example `{key: value}` which can be\n                accessed %{meta[key]}.\n            metasrc\n                Sets the source reference on plot.ly for  meta\n                .\n            modebar\n                plotly.graph_objects.layout.Modebar instance or\n                dict with compatible properties\n            orientation\n                Legacy polar charts are deprecated! Please\n                switch to \"polar\" subplots. Rotates the entire\n                polar by the given angle in legacy polar\n                charts.\n            paper_bgcolor\n                Sets the color of paper where the graph is\n                drawn.\n            piecolorway\n                Sets the default pie slice colors. Defaults to\n                the main `colorway` used for trace colors. If\n                you specify a new list here it can still be\n                extended with lighter and darker colors, see\n                `extendpiecolors`.\n            plot_bgcolor\n                Sets the color of plotting area in-between x\n                and y axes.\n            polar\n                plotly.graph_objects.layout.Polar instance or\n                dict with compatible properties\n            radialaxis\n                plotly.graph_objects.layout.RadialAxis instance\n                or dict with compatible properties\n            scene\n                plotly.graph_objects.layout.Scene instance or\n                dict with compatible properties\n            selectdirection\n                When \"dragmode\" is set to \"select\", this limits\n                the selection of the drag to horizontal,\n                vertical or diagonal. \"h\" only allows\n                horizontal selection, \"v\" only vertical, \"d\"\n                only diagonal and \"any\" sets no limit.\n            selectionrevision\n                Controls persistence of user-driven changes in\n                selected points from all traces.\n            separators\n                Sets the decimal and thousand separators. For\n                example, *. * puts a '.' before decimals and a\n                space between thousands. In English locales,\n                dflt is \".,\" but other locales may alter this\n                default.\n            shapes\n                A tuple of plotly.graph_objects.layout.Shape\n                instances or dicts with compatible properties\n            shapedefaults\n                When used in a template (as\n                layout.template.layout.shapedefaults), sets the\n                default property values to use for elements of\n                layout.shapes\n            showlegend\n                Determines whether or not a legend is drawn.\n                Default is `true` if there is a trace to show\n                and any of these: a) Two or more traces would\n                by default be shown in the legend. b) One pie\n                trace is shown in the legend. c) One trace is\n                explicitly given with `showlegend: true`.\n            sliders\n                A tuple of plotly.graph_objects.layout.Slider\n                instances or dicts with compatible properties\n            sliderdefaults\n                When used in a template (as\n                layout.template.layout.sliderdefaults), sets\n                the default property values to use for elements\n                of layout.sliders\n            spikedistance\n                Sets the default distance (in pixels) to look\n                for data to draw spikelines to (-1 means no\n                cutoff, 0 means no looking for data). As with\n                hoverdistance, distance does not apply to area-\n                like objects. In addition, some objects can be\n                hovered on but will not generate spikelines,\n                such as scatter fills.\n            sunburstcolorway\n                Sets the default sunburst slice colors.\n                Defaults to the main `colorway` used for trace\n                colors. If you specify a new list here it can\n                still be extended with lighter and darker\n                colors, see `extendsunburstcolors`.\n            template\n                Default attributes to be applied to the plot.\n                This should be a dict with format: `{'layout':\n                layoutTemplate, 'data': {trace_type:\n                [traceTemplate, ...], ...}}` where\n                `layoutTemplate` is a dict matching the\n                structure of `figure.layout` and\n                `traceTemplate` is a dict matching the\n                structure of the trace with type `trace_type`\n                (e.g. 'scatter'). Alternatively, this may be\n                specified as an instance of\n                plotly.graph_objs.layout.Template.  Trace\n                templates are applied cyclically to traces of\n                each type. Container arrays (eg `annotations`)\n                have special handling: An object ending in\n                `defaults` (eg `annotationdefaults`) is applied\n                to each array item. But if an item has a\n                `templateitemname` key we look in the template\n                array for an item with matching `name` and\n                apply that instead. If no matching `name` is\n                found we mark the item invisible. Any named\n                template item not referenced is appended to the\n                end of the array, so this can be used to add a\n                watermark annotation or a logo image, for\n                example. To omit one of these items on the\n                plot, make an item with matching\n                `templateitemname` and `visible: false`.\n            ternary\n                plotly.graph_objects.layout.Ternary instance or\n                dict with compatible properties\n            title\n                plotly.graph_objects.layout.Title instance or\n                dict with compatible properties\n            titlefont\n                Deprecated: Please use layout.title.font\n                instead. Sets the title font. Note that the\n                title's font used to be customized by the now\n                deprecated `titlefont` attribute.\n            transition\n                Sets transition options used during\n                Plotly.react updates.\n            uirevision\n                Used to allow user interactions with the plot\n                to persist after `Plotly.react` calls that are\n                unaware of these interactions. If `uirevision`\n                is omitted, or if it is given and it changed\n                from the previous `Plotly.react` call, the\n                exact new figure is used. If `uirevision` is\n                truthy and did NOT change, any attribute that\n                has been affected by user interactions and did\n                not receive a different value in the new figure\n                will keep the interaction value.\n                `layout.uirevision` attribute serves as the\n                default for `uirevision` attributes in various\n                sub-containers. For finer control you can set\n                these sub-attributes directly. For example, if\n                your app separately controls the data on the x\n                and y axes you might set\n                `xaxis.uirevision=*time*` and\n                `yaxis.uirevision=*cost*`. Then if only the y\n                data is changed, you can update\n                `yaxis.uirevision=*quantity*` and the y axis\n                range will reset but the x axis range will\n                retain any user-driven zoom.\n            updatemenus\n                A tuple of\n                plotly.graph_objects.layout.Updatemenu\n                instances or dicts with compatible properties\n            updatemenudefaults\n                When used in a template (as\n                layout.template.layout.updatemenudefaults),\n                sets the default property values to use for\n                elements of layout.updatemenus\n            violingap\n                Sets the gap (in plot fraction) between violins\n                of adjacent location coordinates. Has no effect\n                on traces that have \"width\" set.\n            violingroupgap\n                Sets the gap (in plot fraction) between violins\n                of the same location coordinate. Has no effect\n                on traces that have \"width\" set.\n            violinmode\n                Determines how violins at the same location\n                coordinate are displayed on the graph. If\n                \"group\", the violins are plotted next to one\n                another centered around the shared location. If\n                \"overlay\", the violins are plotted over one\n                another, you might need to set \"opacity\" to see\n                them multiple violins. Has no effect on traces\n                that have \"width\" set.\n            waterfallgap\n                Sets the gap (in plot fraction) between bars of\n                adjacent location coordinates.\n            waterfallgroupgap\n                Sets the gap (in plot fraction) between bars of\n                the same location coordinate.\n            waterfallmode\n                Determines how bars at the same location\n                coordinate are displayed on the graph. With\n                \"group\", the bars are plotted next to one\n                another centered around the shared location.\n                With \"overlay\", the bars are plotted over one\n                another, you might need to an \"opacity\" to see\n                multiple bars.\n            width\n                Sets the plot's width (in px).\n            xaxis\n                plotly.graph_objects.layout.XAxis instance or\n                dict with compatible properties\n            yaxis\n                plotly.graph_objects.layout.YAxis instance or\n                dict with compatible properties\n"
     ]
    }
   ],
   "source": [
    "from lib.graph import trace_values, plot, layout\n",
    "\n",
    "regression_trace = trace_values([0, 150], [0, 450], mode = 'lines', name = 'estimated revenue')\n",
    "movie_layout = layout(options = {'title': 'Movie Spending and Revenue (in millions)'})\n",
    "plot([regression_trace], [movie_layout)"
   ]
  },
  {
   "cell_type": "markdown",
   "metadata": {},
   "source": [
    "By using a line, we can see how much money is earned for any point on this line.  All we need to do is look at a given $x$ value, and find the corresponding $y$ value at that point on the line. \n",
    "\n",
    "* Spend 60 million, and expect to bring in about 180 million.  \n",
    "* Spend 20 million, and expect to bring in 60 million.  \n",
    "\n",
    "This approach of modeling a linear relationship (that is a drawing a straight line) between an input and an output is called **linear regression**.  We call the input our **explanatory variable**, and the output the **dependent variable**.  So here, we are saying budget *explains* our dependent variable, revenue."
   ]
  },
  {
   "cell_type": "markdown",
   "metadata": {},
   "source": [
    "### Representing linear regression with functions"
   ]
  },
  {
   "cell_type": "markdown",
   "metadata": {},
   "source": [
    "Instead of only representing this line visually, we also would like to represent this line with a function. That way, instead of having to **see** how an $x$ value points to a $y$ value along our line, we simply could punch this input into our function to calculate the proper output.  \n",
    "\n",
    "#### A wrong guess\n",
    "Let's take an initial (wrong) guess at turning this line into a function.  \n",
    "\n",
    "**First**, we represent the line as a mathematical formula.\n",
    "\n",
    "$y = x$\n",
    "\n",
    "**Then**, we turn this formula into a function:"
   ]
  },
  {
   "cell_type": "code",
   "execution_count": 3,
   "metadata": {},
   "outputs": [
    {
     "data": {
      "text/plain": [
       "0"
      ]
     },
     "execution_count": 3,
     "metadata": {},
     "output_type": "execute_result"
    }
   ],
   "source": [
    "def y(x):\n",
    "    return x\n",
    "\n",
    "y(0)"
   ]
  },
  {
   "cell_type": "code",
   "execution_count": 4,
   "metadata": {},
   "outputs": [
    {
     "data": {
      "text/plain": [
       "10000000"
      ]
     },
     "execution_count": 4,
     "metadata": {},
     "output_type": "execute_result"
    }
   ],
   "source": [
    "y(10000000)"
   ]
  },
  {
   "cell_type": "markdown",
   "metadata": {},
   "source": [
    "This is pretty nice.  We just wrote a function that automatically calculates the expected revenue given a certain movie budget.  This function says that for every value of $x$ that we input to the function, we get back an equal value $y$.  So according to the function, if the movie has a budget of $30$ million, it will earn $30$ million. \n",
    "\n",
    "#### A better guess: Matching lines to functions\n",
    "Take a look at the line that we drew.  Our line says something different.  The line says that spending 30 million brings predicted earnings of 90 million.  We need to change our function so that it matches our line.  In fact, we need a consistent way to turn lines into functions, and vice versa.  Let's get to it.\n",
    "\n",
    "**We start** by turning our line into a chart below.  It shows how our line relates x-values and y-values, or our budgets and revenues."
   ]
  },
  {
   "cell_type": "markdown",
   "metadata": {
    "collapsed": true
   },
   "source": [
    "| X (budget)       | Y (revenue)           | \n",
    "| ------------- |:-------------:| \n",
    "| 0      |0 | \n",
    "| 30 million      |90 million | \n",
    "| 60 million      |180 million | \n",
    "\n",
    "**Next**, we need an equation that allows us to match this data.\n",
    "* input 0 and get back 0\n",
    "* input 30 million and get back 90 million\n",
    "* and input 60 million and get back 180 million?  \n",
    "\n",
    "What equation is that?  Well it's $y = 3x$.  Take a look to see for yourself.\n",
    "\n",
    "* 0 * 3 = 0\n",
    "* 30 million * 3 = 90 million\n",
    "* 60 million * 3 = 180 million \n",
    "\n",
    "Let's see it in the code.  This is what it looks like:"
   ]
  },
  {
   "cell_type": "code",
   "execution_count": 5,
   "metadata": {},
   "outputs": [],
   "source": [
    "def y(x):\n",
    "    return 3*x"
   ]
  },
  {
   "cell_type": "code",
   "execution_count": 6,
   "metadata": {},
   "outputs": [
    {
     "data": {
      "text/plain": [
       "90000000"
      ]
     },
     "execution_count": 6,
     "metadata": {},
     "output_type": "execute_result"
    }
   ],
   "source": [
    "y(30000000)"
   ]
  },
  {
   "cell_type": "code",
   "execution_count": 7,
   "metadata": {},
   "outputs": [
    {
     "data": {
      "text/plain": [
       "0"
      ]
     },
     "execution_count": 7,
     "metadata": {},
     "output_type": "execute_result"
    }
   ],
   "source": [
    "y(0)"
   ]
  },
  {
   "cell_type": "markdown",
   "metadata": {},
   "source": [
    "Progress! We multiplied each $x$ value by 3 so that our function's outputs correspond to the $y$ values appearing along our graphed line."
   ]
  },
  {
   "cell_type": "markdown",
   "metadata": {},
   "source": [
    "### The Slope Variable "
   ]
  },
  {
   "cell_type": "markdown",
   "metadata": {},
   "source": [
    "By multiplying $x$ by 3, we just altered the **slope variable**.  The slope variable changes the inclination of the line in our graph.  Slope generally is represented by $m$ like so:\n",
    "\n",
    "$y = mx$ \n",
    "\n",
    "Let's make sure we understand what all of our variables stand for.  Here they are: \n",
    "\n",
    "* $y$: the output value returned by the function, also called the **response variable**, as it responds to values of $x$\n",
    "* $x$: the input variable, also called the **explanatory variable**, as it explains the value of $y$\n",
    "* $m$: the **slope variable**, determines how vertical or horizontal the line will appear"
   ]
  },
  {
   "cell_type": "markdown",
   "metadata": {},
   "source": [
    "Let's adapt these terms to our movie example.  The $y$ value is the revenue earned from the movie, which we say is in *response* to our budget.  The *explanatory variable* of our budget, $x$, represents our budget, and the $m$ corresponds to our value of 3, which describes how much money is earned for each dollar spent.  Therefore, with an $m$ of 3, our line says to expect to earn 3 dollars for each dollar spent making the movie.  Likewise, an $m$ of 2 suggests we earn 2 dollars for every dollar we spend."
   ]
  },
  {
   "cell_type": "markdown",
   "metadata": {},
   "source": [
    "> A higher value of $m$ means a steeper line.  It also means that we expect more money earned per dollar spent on our movies.  Imagine the line pivoting to a steeper tilt as we guess a higher amount of money earned per dollar spent.  "
   ]
  },
  {
   "cell_type": "markdown",
   "metadata": {},
   "source": [
    "### The y-intercept"
   ]
  },
  {
   "cell_type": "markdown",
   "metadata": {},
   "source": [
    "There is one more thing that we need to learn in order to describe every straight line in a two-dimensional world.  That is the **y-intercept**."
   ]
  },
  {
   "cell_type": "markdown",
   "metadata": {},
   "source": [
    "> * The **y-intercept** is the $y$ value of the line where it intersects the y-axis.  \n",
    "> * Or, put another way, the y-intercept is the value of $y$ when $x$ equals zero.  \n",
    "\n",
    "Let's add a trace with a higher y-intercept than our initial line to the movie plot.  "
   ]
  },
  {
   "cell_type": "code",
   "execution_count": 8,
   "metadata": {},
   "outputs": [
    {
     "data": {
      "application/vnd.plotly.v1+json": {
       "config": {
        "linkText": "Export to plot.ly",
        "plotlyServerURL": "https://plot.ly",
        "showLink": false
       },
       "data": [
        {
         "mode": "lines",
         "name": "increased est. revenue",
         "text": [],
         "type": "scatter",
         "x": [
          0,
          150
         ],
         "y": [
          50,
          500
         ]
        },
        {
         "mode": "lines",
         "name": "estimated revenue",
         "text": [],
         "type": "scatter",
         "x": [
          0,
          150
         ],
         "y": [
          0,
          450
         ]
        }
       ],
       "layout": {
        "template": {
         "data": {
          "bar": [
           {
            "error_x": {
             "color": "#2a3f5f"
            },
            "error_y": {
             "color": "#2a3f5f"
            },
            "marker": {
             "line": {
              "color": "#E5ECF6",
              "width": 0.5
             }
            },
            "type": "bar"
           }
          ],
          "barpolar": [
           {
            "marker": {
             "line": {
              "color": "#E5ECF6",
              "width": 0.5
             }
            },
            "type": "barpolar"
           }
          ],
          "carpet": [
           {
            "aaxis": {
             "endlinecolor": "#2a3f5f",
             "gridcolor": "white",
             "linecolor": "white",
             "minorgridcolor": "white",
             "startlinecolor": "#2a3f5f"
            },
            "baxis": {
             "endlinecolor": "#2a3f5f",
             "gridcolor": "white",
             "linecolor": "white",
             "minorgridcolor": "white",
             "startlinecolor": "#2a3f5f"
            },
            "type": "carpet"
           }
          ],
          "choropleth": [
           {
            "colorbar": {
             "outlinewidth": 0,
             "ticks": ""
            },
            "type": "choropleth"
           }
          ],
          "contour": [
           {
            "colorbar": {
             "outlinewidth": 0,
             "ticks": ""
            },
            "colorscale": [
             [
              0,
              "#0d0887"
             ],
             [
              0.1111111111111111,
              "#46039f"
             ],
             [
              0.2222222222222222,
              "#7201a8"
             ],
             [
              0.3333333333333333,
              "#9c179e"
             ],
             [
              0.4444444444444444,
              "#bd3786"
             ],
             [
              0.5555555555555556,
              "#d8576b"
             ],
             [
              0.6666666666666666,
              "#ed7953"
             ],
             [
              0.7777777777777778,
              "#fb9f3a"
             ],
             [
              0.8888888888888888,
              "#fdca26"
             ],
             [
              1,
              "#f0f921"
             ]
            ],
            "type": "contour"
           }
          ],
          "contourcarpet": [
           {
            "colorbar": {
             "outlinewidth": 0,
             "ticks": ""
            },
            "type": "contourcarpet"
           }
          ],
          "heatmap": [
           {
            "colorbar": {
             "outlinewidth": 0,
             "ticks": ""
            },
            "colorscale": [
             [
              0,
              "#0d0887"
             ],
             [
              0.1111111111111111,
              "#46039f"
             ],
             [
              0.2222222222222222,
              "#7201a8"
             ],
             [
              0.3333333333333333,
              "#9c179e"
             ],
             [
              0.4444444444444444,
              "#bd3786"
             ],
             [
              0.5555555555555556,
              "#d8576b"
             ],
             [
              0.6666666666666666,
              "#ed7953"
             ],
             [
              0.7777777777777778,
              "#fb9f3a"
             ],
             [
              0.8888888888888888,
              "#fdca26"
             ],
             [
              1,
              "#f0f921"
             ]
            ],
            "type": "heatmap"
           }
          ],
          "heatmapgl": [
           {
            "colorbar": {
             "outlinewidth": 0,
             "ticks": ""
            },
            "colorscale": [
             [
              0,
              "#0d0887"
             ],
             [
              0.1111111111111111,
              "#46039f"
             ],
             [
              0.2222222222222222,
              "#7201a8"
             ],
             [
              0.3333333333333333,
              "#9c179e"
             ],
             [
              0.4444444444444444,
              "#bd3786"
             ],
             [
              0.5555555555555556,
              "#d8576b"
             ],
             [
              0.6666666666666666,
              "#ed7953"
             ],
             [
              0.7777777777777778,
              "#fb9f3a"
             ],
             [
              0.8888888888888888,
              "#fdca26"
             ],
             [
              1,
              "#f0f921"
             ]
            ],
            "type": "heatmapgl"
           }
          ],
          "histogram": [
           {
            "marker": {
             "colorbar": {
              "outlinewidth": 0,
              "ticks": ""
             }
            },
            "type": "histogram"
           }
          ],
          "histogram2d": [
           {
            "colorbar": {
             "outlinewidth": 0,
             "ticks": ""
            },
            "colorscale": [
             [
              0,
              "#0d0887"
             ],
             [
              0.1111111111111111,
              "#46039f"
             ],
             [
              0.2222222222222222,
              "#7201a8"
             ],
             [
              0.3333333333333333,
              "#9c179e"
             ],
             [
              0.4444444444444444,
              "#bd3786"
             ],
             [
              0.5555555555555556,
              "#d8576b"
             ],
             [
              0.6666666666666666,
              "#ed7953"
             ],
             [
              0.7777777777777778,
              "#fb9f3a"
             ],
             [
              0.8888888888888888,
              "#fdca26"
             ],
             [
              1,
              "#f0f921"
             ]
            ],
            "type": "histogram2d"
           }
          ],
          "histogram2dcontour": [
           {
            "colorbar": {
             "outlinewidth": 0,
             "ticks": ""
            },
            "colorscale": [
             [
              0,
              "#0d0887"
             ],
             [
              0.1111111111111111,
              "#46039f"
             ],
             [
              0.2222222222222222,
              "#7201a8"
             ],
             [
              0.3333333333333333,
              "#9c179e"
             ],
             [
              0.4444444444444444,
              "#bd3786"
             ],
             [
              0.5555555555555556,
              "#d8576b"
             ],
             [
              0.6666666666666666,
              "#ed7953"
             ],
             [
              0.7777777777777778,
              "#fb9f3a"
             ],
             [
              0.8888888888888888,
              "#fdca26"
             ],
             [
              1,
              "#f0f921"
             ]
            ],
            "type": "histogram2dcontour"
           }
          ],
          "mesh3d": [
           {
            "colorbar": {
             "outlinewidth": 0,
             "ticks": ""
            },
            "type": "mesh3d"
           }
          ],
          "parcoords": [
           {
            "line": {
             "colorbar": {
              "outlinewidth": 0,
              "ticks": ""
             }
            },
            "type": "parcoords"
           }
          ],
          "scatter": [
           {
            "marker": {
             "colorbar": {
              "outlinewidth": 0,
              "ticks": ""
             }
            },
            "type": "scatter"
           }
          ],
          "scatter3d": [
           {
            "line": {
             "colorbar": {
              "outlinewidth": 0,
              "ticks": ""
             }
            },
            "marker": {
             "colorbar": {
              "outlinewidth": 0,
              "ticks": ""
             }
            },
            "type": "scatter3d"
           }
          ],
          "scattercarpet": [
           {
            "marker": {
             "colorbar": {
              "outlinewidth": 0,
              "ticks": ""
             }
            },
            "type": "scattercarpet"
           }
          ],
          "scattergeo": [
           {
            "marker": {
             "colorbar": {
              "outlinewidth": 0,
              "ticks": ""
             }
            },
            "type": "scattergeo"
           }
          ],
          "scattergl": [
           {
            "marker": {
             "colorbar": {
              "outlinewidth": 0,
              "ticks": ""
             }
            },
            "type": "scattergl"
           }
          ],
          "scattermapbox": [
           {
            "marker": {
             "colorbar": {
              "outlinewidth": 0,
              "ticks": ""
             }
            },
            "type": "scattermapbox"
           }
          ],
          "scatterpolar": [
           {
            "marker": {
             "colorbar": {
              "outlinewidth": 0,
              "ticks": ""
             }
            },
            "type": "scatterpolar"
           }
          ],
          "scatterpolargl": [
           {
            "marker": {
             "colorbar": {
              "outlinewidth": 0,
              "ticks": ""
             }
            },
            "type": "scatterpolargl"
           }
          ],
          "scatterternary": [
           {
            "marker": {
             "colorbar": {
              "outlinewidth": 0,
              "ticks": ""
             }
            },
            "type": "scatterternary"
           }
          ],
          "surface": [
           {
            "colorbar": {
             "outlinewidth": 0,
             "ticks": ""
            },
            "colorscale": [
             [
              0,
              "#0d0887"
             ],
             [
              0.1111111111111111,
              "#46039f"
             ],
             [
              0.2222222222222222,
              "#7201a8"
             ],
             [
              0.3333333333333333,
              "#9c179e"
             ],
             [
              0.4444444444444444,
              "#bd3786"
             ],
             [
              0.5555555555555556,
              "#d8576b"
             ],
             [
              0.6666666666666666,
              "#ed7953"
             ],
             [
              0.7777777777777778,
              "#fb9f3a"
             ],
             [
              0.8888888888888888,
              "#fdca26"
             ],
             [
              1,
              "#f0f921"
             ]
            ],
            "type": "surface"
           }
          ],
          "table": [
           {
            "cells": {
             "fill": {
              "color": "#EBF0F8"
             },
             "line": {
              "color": "white"
             }
            },
            "header": {
             "fill": {
              "color": "#C8D4E3"
             },
             "line": {
              "color": "white"
             }
            },
            "type": "table"
           }
          ]
         },
         "layout": {
          "annotationdefaults": {
           "arrowcolor": "#2a3f5f",
           "arrowhead": 0,
           "arrowwidth": 1
          },
          "colorscale": {
           "diverging": [
            [
             0,
             "#8e0152"
            ],
            [
             0.1,
             "#c51b7d"
            ],
            [
             0.2,
             "#de77ae"
            ],
            [
             0.3,
             "#f1b6da"
            ],
            [
             0.4,
             "#fde0ef"
            ],
            [
             0.5,
             "#f7f7f7"
            ],
            [
             0.6,
             "#e6f5d0"
            ],
            [
             0.7,
             "#b8e186"
            ],
            [
             0.8,
             "#7fbc41"
            ],
            [
             0.9,
             "#4d9221"
            ],
            [
             1,
             "#276419"
            ]
           ],
           "sequential": [
            [
             0,
             "#0d0887"
            ],
            [
             0.1111111111111111,
             "#46039f"
            ],
            [
             0.2222222222222222,
             "#7201a8"
            ],
            [
             0.3333333333333333,
             "#9c179e"
            ],
            [
             0.4444444444444444,
             "#bd3786"
            ],
            [
             0.5555555555555556,
             "#d8576b"
            ],
            [
             0.6666666666666666,
             "#ed7953"
            ],
            [
             0.7777777777777778,
             "#fb9f3a"
            ],
            [
             0.8888888888888888,
             "#fdca26"
            ],
            [
             1,
             "#f0f921"
            ]
           ],
           "sequentialminus": [
            [
             0,
             "#0d0887"
            ],
            [
             0.1111111111111111,
             "#46039f"
            ],
            [
             0.2222222222222222,
             "#7201a8"
            ],
            [
             0.3333333333333333,
             "#9c179e"
            ],
            [
             0.4444444444444444,
             "#bd3786"
            ],
            [
             0.5555555555555556,
             "#d8576b"
            ],
            [
             0.6666666666666666,
             "#ed7953"
            ],
            [
             0.7777777777777778,
             "#fb9f3a"
            ],
            [
             0.8888888888888888,
             "#fdca26"
            ],
            [
             1,
             "#f0f921"
            ]
           ]
          },
          "colorway": [
           "#636efa",
           "#EF553B",
           "#00cc96",
           "#ab63fa",
           "#FFA15A",
           "#19d3f3",
           "#FF6692",
           "#B6E880",
           "#FF97FF",
           "#FECB52"
          ],
          "font": {
           "color": "#2a3f5f"
          },
          "geo": {
           "bgcolor": "white",
           "lakecolor": "white",
           "landcolor": "#E5ECF6",
           "showlakes": true,
           "showland": true,
           "subunitcolor": "white"
          },
          "hoverlabel": {
           "align": "left"
          },
          "hovermode": "closest",
          "mapbox": {
           "style": "light"
          },
          "paper_bgcolor": "white",
          "plot_bgcolor": "#E5ECF6",
          "polar": {
           "angularaxis": {
            "gridcolor": "white",
            "linecolor": "white",
            "ticks": ""
           },
           "bgcolor": "#E5ECF6",
           "radialaxis": {
            "gridcolor": "white",
            "linecolor": "white",
            "ticks": ""
           }
          },
          "scene": {
           "xaxis": {
            "backgroundcolor": "#E5ECF6",
            "gridcolor": "white",
            "gridwidth": 2,
            "linecolor": "white",
            "showbackground": true,
            "ticks": "",
            "zerolinecolor": "white"
           },
           "yaxis": {
            "backgroundcolor": "#E5ECF6",
            "gridcolor": "white",
            "gridwidth": 2,
            "linecolor": "white",
            "showbackground": true,
            "ticks": "",
            "zerolinecolor": "white"
           },
           "zaxis": {
            "backgroundcolor": "#E5ECF6",
            "gridcolor": "white",
            "gridwidth": 2,
            "linecolor": "white",
            "showbackground": true,
            "ticks": "",
            "zerolinecolor": "white"
           }
          },
          "shapedefaults": {
           "line": {
            "color": "#2a3f5f"
           }
          },
          "ternary": {
           "aaxis": {
            "gridcolor": "white",
            "linecolor": "white",
            "ticks": ""
           },
           "baxis": {
            "gridcolor": "white",
            "linecolor": "white",
            "ticks": ""
           },
           "bgcolor": "#E5ECF6",
           "caxis": {
            "gridcolor": "white",
            "linecolor": "white",
            "ticks": ""
           }
          },
          "title": {
           "x": 0.05
          },
          "xaxis": {
           "automargin": true,
           "gridcolor": "white",
           "linecolor": "white",
           "ticks": "",
           "zerolinecolor": "white",
           "zerolinewidth": 2
          },
          "yaxis": {
           "automargin": true,
           "gridcolor": "white",
           "linecolor": "white",
           "ticks": "",
           "zerolinecolor": "white",
           "zerolinewidth": 2
          }
         }
        },
        "title": {
         "text": "Movie Spending and Revenue (in millions)"
        }
       }
      },
      "text/html": [
       "<div>\n",
       "        \n",
       "        \n",
       "            <div id=\"3826b3bb-4fc1-444f-beb2-93e1ff21e08d\" class=\"plotly-graph-div\" style=\"height:525px; width:100%;\"></div>\n",
       "            <script type=\"text/javascript\">\n",
       "                require([\"plotly\"], function(Plotly) {\n",
       "                    window.PLOTLYENV=window.PLOTLYENV || {};\n",
       "                    \n",
       "                if (document.getElementById(\"3826b3bb-4fc1-444f-beb2-93e1ff21e08d\")) {\n",
       "                    Plotly.newPlot(\n",
       "                        '3826b3bb-4fc1-444f-beb2-93e1ff21e08d',\n",
       "                        [{\"mode\": \"lines\", \"name\": \"increased est. revenue\", \"text\": [], \"type\": \"scatter\", \"x\": [0, 150], \"y\": [50, 500]}, {\"mode\": \"lines\", \"name\": \"estimated revenue\", \"text\": [], \"type\": \"scatter\", \"x\": [0, 150], \"y\": [0, 450]}],\n",
       "                        {\"template\": {\"data\": {\"bar\": [{\"error_x\": {\"color\": \"#2a3f5f\"}, \"error_y\": {\"color\": \"#2a3f5f\"}, \"marker\": {\"line\": {\"color\": \"#E5ECF6\", \"width\": 0.5}}, \"type\": \"bar\"}], \"barpolar\": [{\"marker\": {\"line\": {\"color\": \"#E5ECF6\", \"width\": 0.5}}, \"type\": \"barpolar\"}], \"carpet\": [{\"aaxis\": {\"endlinecolor\": \"#2a3f5f\", \"gridcolor\": \"white\", \"linecolor\": \"white\", \"minorgridcolor\": \"white\", \"startlinecolor\": \"#2a3f5f\"}, \"baxis\": {\"endlinecolor\": \"#2a3f5f\", \"gridcolor\": \"white\", \"linecolor\": \"white\", \"minorgridcolor\": \"white\", \"startlinecolor\": \"#2a3f5f\"}, \"type\": \"carpet\"}], \"choropleth\": [{\"colorbar\": {\"outlinewidth\": 0, \"ticks\": \"\"}, \"type\": \"choropleth\"}], \"contour\": [{\"colorbar\": {\"outlinewidth\": 0, \"ticks\": \"\"}, \"colorscale\": [[0.0, \"#0d0887\"], [0.1111111111111111, \"#46039f\"], [0.2222222222222222, \"#7201a8\"], [0.3333333333333333, \"#9c179e\"], [0.4444444444444444, \"#bd3786\"], [0.5555555555555556, \"#d8576b\"], [0.6666666666666666, \"#ed7953\"], [0.7777777777777778, \"#fb9f3a\"], [0.8888888888888888, \"#fdca26\"], [1.0, \"#f0f921\"]], \"type\": \"contour\"}], \"contourcarpet\": [{\"colorbar\": {\"outlinewidth\": 0, \"ticks\": \"\"}, \"type\": \"contourcarpet\"}], \"heatmap\": [{\"colorbar\": {\"outlinewidth\": 0, \"ticks\": \"\"}, \"colorscale\": [[0.0, \"#0d0887\"], [0.1111111111111111, \"#46039f\"], [0.2222222222222222, \"#7201a8\"], [0.3333333333333333, \"#9c179e\"], [0.4444444444444444, \"#bd3786\"], [0.5555555555555556, \"#d8576b\"], [0.6666666666666666, \"#ed7953\"], [0.7777777777777778, \"#fb9f3a\"], [0.8888888888888888, \"#fdca26\"], [1.0, \"#f0f921\"]], \"type\": \"heatmap\"}], \"heatmapgl\": [{\"colorbar\": {\"outlinewidth\": 0, \"ticks\": \"\"}, \"colorscale\": [[0.0, \"#0d0887\"], [0.1111111111111111, \"#46039f\"], [0.2222222222222222, \"#7201a8\"], [0.3333333333333333, \"#9c179e\"], [0.4444444444444444, \"#bd3786\"], [0.5555555555555556, \"#d8576b\"], [0.6666666666666666, \"#ed7953\"], [0.7777777777777778, \"#fb9f3a\"], [0.8888888888888888, \"#fdca26\"], [1.0, \"#f0f921\"]], \"type\": \"heatmapgl\"}], \"histogram\": [{\"marker\": {\"colorbar\": {\"outlinewidth\": 0, \"ticks\": \"\"}}, \"type\": \"histogram\"}], \"histogram2d\": [{\"colorbar\": {\"outlinewidth\": 0, \"ticks\": \"\"}, \"colorscale\": [[0.0, \"#0d0887\"], [0.1111111111111111, \"#46039f\"], [0.2222222222222222, \"#7201a8\"], [0.3333333333333333, \"#9c179e\"], [0.4444444444444444, \"#bd3786\"], [0.5555555555555556, \"#d8576b\"], [0.6666666666666666, \"#ed7953\"], [0.7777777777777778, \"#fb9f3a\"], [0.8888888888888888, \"#fdca26\"], [1.0, \"#f0f921\"]], \"type\": \"histogram2d\"}], \"histogram2dcontour\": [{\"colorbar\": {\"outlinewidth\": 0, \"ticks\": \"\"}, \"colorscale\": [[0.0, \"#0d0887\"], [0.1111111111111111, \"#46039f\"], [0.2222222222222222, \"#7201a8\"], [0.3333333333333333, \"#9c179e\"], [0.4444444444444444, \"#bd3786\"], [0.5555555555555556, \"#d8576b\"], [0.6666666666666666, \"#ed7953\"], [0.7777777777777778, \"#fb9f3a\"], [0.8888888888888888, \"#fdca26\"], [1.0, \"#f0f921\"]], \"type\": \"histogram2dcontour\"}], \"mesh3d\": [{\"colorbar\": {\"outlinewidth\": 0, \"ticks\": \"\"}, \"type\": \"mesh3d\"}], \"parcoords\": [{\"line\": {\"colorbar\": {\"outlinewidth\": 0, \"ticks\": \"\"}}, \"type\": \"parcoords\"}], \"scatter\": [{\"marker\": {\"colorbar\": {\"outlinewidth\": 0, \"ticks\": \"\"}}, \"type\": \"scatter\"}], \"scatter3d\": [{\"line\": {\"colorbar\": {\"outlinewidth\": 0, \"ticks\": \"\"}}, \"marker\": {\"colorbar\": {\"outlinewidth\": 0, \"ticks\": \"\"}}, \"type\": \"scatter3d\"}], \"scattercarpet\": [{\"marker\": {\"colorbar\": {\"outlinewidth\": 0, \"ticks\": \"\"}}, \"type\": \"scattercarpet\"}], \"scattergeo\": [{\"marker\": {\"colorbar\": {\"outlinewidth\": 0, \"ticks\": \"\"}}, \"type\": \"scattergeo\"}], \"scattergl\": [{\"marker\": {\"colorbar\": {\"outlinewidth\": 0, \"ticks\": \"\"}}, \"type\": \"scattergl\"}], \"scattermapbox\": [{\"marker\": {\"colorbar\": {\"outlinewidth\": 0, \"ticks\": \"\"}}, \"type\": \"scattermapbox\"}], \"scatterpolar\": [{\"marker\": {\"colorbar\": {\"outlinewidth\": 0, \"ticks\": \"\"}}, \"type\": \"scatterpolar\"}], \"scatterpolargl\": [{\"marker\": {\"colorbar\": {\"outlinewidth\": 0, \"ticks\": \"\"}}, \"type\": \"scatterpolargl\"}], \"scatterternary\": [{\"marker\": {\"colorbar\": {\"outlinewidth\": 0, \"ticks\": \"\"}}, \"type\": \"scatterternary\"}], \"surface\": [{\"colorbar\": {\"outlinewidth\": 0, \"ticks\": \"\"}, \"colorscale\": [[0.0, \"#0d0887\"], [0.1111111111111111, \"#46039f\"], [0.2222222222222222, \"#7201a8\"], [0.3333333333333333, \"#9c179e\"], [0.4444444444444444, \"#bd3786\"], [0.5555555555555556, \"#d8576b\"], [0.6666666666666666, \"#ed7953\"], [0.7777777777777778, \"#fb9f3a\"], [0.8888888888888888, \"#fdca26\"], [1.0, \"#f0f921\"]], \"type\": \"surface\"}], \"table\": [{\"cells\": {\"fill\": {\"color\": \"#EBF0F8\"}, \"line\": {\"color\": \"white\"}}, \"header\": {\"fill\": {\"color\": \"#C8D4E3\"}, \"line\": {\"color\": \"white\"}}, \"type\": \"table\"}]}, \"layout\": {\"annotationdefaults\": {\"arrowcolor\": \"#2a3f5f\", \"arrowhead\": 0, \"arrowwidth\": 1}, \"colorscale\": {\"diverging\": [[0, \"#8e0152\"], [0.1, \"#c51b7d\"], [0.2, \"#de77ae\"], [0.3, \"#f1b6da\"], [0.4, \"#fde0ef\"], [0.5, \"#f7f7f7\"], [0.6, \"#e6f5d0\"], [0.7, \"#b8e186\"], [0.8, \"#7fbc41\"], [0.9, \"#4d9221\"], [1, \"#276419\"]], \"sequential\": [[0.0, \"#0d0887\"], [0.1111111111111111, \"#46039f\"], [0.2222222222222222, \"#7201a8\"], [0.3333333333333333, \"#9c179e\"], [0.4444444444444444, \"#bd3786\"], [0.5555555555555556, \"#d8576b\"], [0.6666666666666666, \"#ed7953\"], [0.7777777777777778, \"#fb9f3a\"], [0.8888888888888888, \"#fdca26\"], [1.0, \"#f0f921\"]], \"sequentialminus\": [[0.0, \"#0d0887\"], [0.1111111111111111, \"#46039f\"], [0.2222222222222222, \"#7201a8\"], [0.3333333333333333, \"#9c179e\"], [0.4444444444444444, \"#bd3786\"], [0.5555555555555556, \"#d8576b\"], [0.6666666666666666, \"#ed7953\"], [0.7777777777777778, \"#fb9f3a\"], [0.8888888888888888, \"#fdca26\"], [1.0, \"#f0f921\"]]}, \"colorway\": [\"#636efa\", \"#EF553B\", \"#00cc96\", \"#ab63fa\", \"#FFA15A\", \"#19d3f3\", \"#FF6692\", \"#B6E880\", \"#FF97FF\", \"#FECB52\"], \"font\": {\"color\": \"#2a3f5f\"}, \"geo\": {\"bgcolor\": \"white\", \"lakecolor\": \"white\", \"landcolor\": \"#E5ECF6\", \"showlakes\": true, \"showland\": true, \"subunitcolor\": \"white\"}, \"hoverlabel\": {\"align\": \"left\"}, \"hovermode\": \"closest\", \"mapbox\": {\"style\": \"light\"}, \"paper_bgcolor\": \"white\", \"plot_bgcolor\": \"#E5ECF6\", \"polar\": {\"angularaxis\": {\"gridcolor\": \"white\", \"linecolor\": \"white\", \"ticks\": \"\"}, \"bgcolor\": \"#E5ECF6\", \"radialaxis\": {\"gridcolor\": \"white\", \"linecolor\": \"white\", \"ticks\": \"\"}}, \"scene\": {\"xaxis\": {\"backgroundcolor\": \"#E5ECF6\", \"gridcolor\": \"white\", \"gridwidth\": 2, \"linecolor\": \"white\", \"showbackground\": true, \"ticks\": \"\", \"zerolinecolor\": \"white\"}, \"yaxis\": {\"backgroundcolor\": \"#E5ECF6\", \"gridcolor\": \"white\", \"gridwidth\": 2, \"linecolor\": \"white\", \"showbackground\": true, \"ticks\": \"\", \"zerolinecolor\": \"white\"}, \"zaxis\": {\"backgroundcolor\": \"#E5ECF6\", \"gridcolor\": \"white\", \"gridwidth\": 2, \"linecolor\": \"white\", \"showbackground\": true, \"ticks\": \"\", \"zerolinecolor\": \"white\"}}, \"shapedefaults\": {\"line\": {\"color\": \"#2a3f5f\"}}, \"ternary\": {\"aaxis\": {\"gridcolor\": \"white\", \"linecolor\": \"white\", \"ticks\": \"\"}, \"baxis\": {\"gridcolor\": \"white\", \"linecolor\": \"white\", \"ticks\": \"\"}, \"bgcolor\": \"#E5ECF6\", \"caxis\": {\"gridcolor\": \"white\", \"linecolor\": \"white\", \"ticks\": \"\"}}, \"title\": {\"x\": 0.05}, \"xaxis\": {\"automargin\": true, \"gridcolor\": \"white\", \"linecolor\": \"white\", \"ticks\": \"\", \"zerolinecolor\": \"white\", \"zerolinewidth\": 2}, \"yaxis\": {\"automargin\": true, \"gridcolor\": \"white\", \"linecolor\": \"white\", \"ticks\": \"\", \"zerolinecolor\": \"white\", \"zerolinewidth\": 2}}}, \"title\": {\"text\": \"Movie Spending and Revenue (in millions)\"}},\n",
       "                        {\"responsive\": true}\n",
       "                    ).then(function(){\n",
       "                            \n",
       "var gd = document.getElementById('3826b3bb-4fc1-444f-beb2-93e1ff21e08d');\n",
       "var x = new MutationObserver(function (mutations, observer) {{\n",
       "        var display = window.getComputedStyle(gd).display;\n",
       "        if (!display || display === 'none') {{\n",
       "            console.log([gd, 'removed!']);\n",
       "            Plotly.purge(gd);\n",
       "            observer.disconnect();\n",
       "        }}\n",
       "}});\n",
       "\n",
       "// Listen for the removal of the full notebook cells\n",
       "var notebookContainer = gd.closest('#notebook-container');\n",
       "if (notebookContainer) {{\n",
       "    x.observe(notebookContainer, {childList: true});\n",
       "}}\n",
       "\n",
       "// Listen for the clearing of the current output cell\n",
       "var outputEl = gd.closest('.output');\n",
       "if (outputEl) {{\n",
       "    x.observe(outputEl, {childList: true});\n",
       "}}\n",
       "\n",
       "                        })\n",
       "                };\n",
       "                });\n",
       "            </script>\n",
       "        </div>"
      ]
     },
     "metadata": {},
     "output_type": "display_data"
    }
   ],
   "source": [
    "regression_trace_increased = trace_values([0, 150], [50, 500], mode = 'lines', name = 'increased est. revenue')\n",
    "plot([regression_trace_increased, regression_trace], movie_layout)"
   ]
  },
  {
   "cell_type": "markdown",
   "metadata": {},
   "source": [
    "What is the y-intercept of the original estimated revenue line?  Well, it's the value of $y$ when that line crosses the y-axis.  That value is zero.  Our second line is parallel to the first but is shifted higher so that the y-intercept increases up to 50 million.  Here, for every value of $x$, the corresponding value of $y$ is higher by 50 million.  \n",
    "\n",
    "* Our formula is no longer $y = 3x$.  \n",
    "* It is $y = 3 x + 50,000,000$. \n",
    "\n",
    "In addition to determining the y-intercept from a line on a graph, we can also see the y-intercept by looking at a chart of points.  \n",
    "\n",
    "> In the chart below, we know that the y-intercept is 50 million because its corresponding $x$ value is zero. "
   ]
  },
  {
   "cell_type": "markdown",
   "metadata": {
    "collapsed": true
   },
   "source": [
    "| X        | Y           | \n",
    "| ------------- |:-------------:| \n",
    "| 0      |50 million | \n",
    "| 40 million      |170 million | \n",
    "| 60 million      |230 million | "
   ]
  },
  {
   "cell_type": "markdown",
   "metadata": {},
   "source": [
    "The y-intercept of a line usually is represented by *b*.  Now we have all of the information needed to describe any straight line using the formula below:  \n",
    "\n",
    "$$y = mx + b $$\n",
    "\n",
    "Once more, in this formula: \n",
    "* $m$ is our slope of the line, and\n",
    "* $b$ is the value of $y$ when $x$ equals zero.  \n",
    "\n",
    "So thinking about it visually, increasing $m$ makes the line steeper, and increasing $b$ pushes the line higher.   \n",
    "\n",
    "In the context of our movies, we said that the the line with values of $m$ = 3 and $b$ = 50 million describes our line, giving us:\n",
    "\n",
    "$y = 3x + 50,000,000 $."
   ]
  },
  {
   "cell_type": "markdown",
   "metadata": {},
   "source": [
    "Let's translate this into a function.  For any input of $x$ our function returns the value of $y$ along that line.  "
   ]
  },
  {
   "cell_type": "code",
   "execution_count": null,
   "metadata": {},
   "outputs": [],
   "source": [
    "def y(x):\n",
    "    return 3*x + 50000000"
   ]
  },
  {
   "cell_type": "code",
   "execution_count": null,
   "metadata": {},
   "outputs": [],
   "source": [
    "y(30000000)"
   ]
  },
  {
   "cell_type": "code",
   "execution_count": null,
   "metadata": {},
   "outputs": [],
   "source": [
    "y(60000000)"
   ]
  },
  {
   "cell_type": "markdown",
   "metadata": {},
   "source": [
    "### Summary"
   ]
  },
  {
   "cell_type": "markdown",
   "metadata": {
    "collapsed": true
   },
   "source": [
    "In this section, we saw how to estimate the relationship between an input variable and an output value.  We did so by drawing a straight line representing the relationship between a movie's budget and it's revenue.  We saw the output for a given input simply by looking at the y-value of the line at that input point of $x$.  \n",
    "\n",
    "We then learned how to represent a line as a mathematical formula, and ultimately a function.  We describe lines through the formula $y = mx + b $, with $m$ representing the slope of the line, and $b$ representing the value of $y$ when $x$ equals zero.  The $b$ variable shifts the line up or down while the $m$ variable tilts the line forwards or backwards.  Translating this formula into a function, we can write a function that returns an expected value of $y$ for an input value of $x$."
   ]
  }
 ],
 "metadata": {
  "kernelspec": {
   "display_name": "Python 3",
   "language": "python",
   "name": "python3"
  },
  "language_info": {
   "codemirror_mode": {
    "name": "ipython",
    "version": 3
   },
   "file_extension": ".py",
   "mimetype": "text/x-python",
   "name": "python",
   "nbconvert_exporter": "python",
   "pygments_lexer": "ipython3",
   "version": "3.6.9"
  }
 },
 "nbformat": 4,
 "nbformat_minor": 2
}
